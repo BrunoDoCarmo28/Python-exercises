{
 "cells": [
  {
   "attachments": {},
   "cell_type": "markdown",
   "metadata": {},
   "source": [
    "- Crie um dicionário\n"
   ]
  },
  {
   "cell_type": "code",
   "execution_count": null,
   "metadata": {},
   "outputs": [],
   "source": [
    "materiais ={\n",
    "\n",
    "'escrever': 'caneta', #chave escrever, valor caneta\n",
    "'ligar': 'lampada',\n",
    "'horas': 'ponto' \n",
    "}"
   ]
  },
  {
   "attachments": {},
   "cell_type": "markdown",
   "metadata": {},
   "source": [
    "- Faza uma lista com as chaves do dicionário criado\n"
   ]
  },
  {
   "cell_type": "code",
   "execution_count": 2,
   "metadata": {},
   "outputs": [
    {
     "data": {
      "text/plain": [
       "['escrever', 'ligar', 'horas']"
      ]
     },
     "execution_count": 2,
     "metadata": {},
     "output_type": "execute_result"
    }
   ],
   "source": [
    "materiais ={\n",
    "'escrever': 'caneta', #chave escrever, valor caneta\n",
    "'ligar': 'lampada',\n",
    "'horas': 'ponto' \n",
    "}\n",
    "list(materiais.keys())"
   ]
  },
  {
   "attachments": {},
   "cell_type": "markdown",
   "metadata": {},
   "source": [
    "- Faça um objeto iterável com os valores do dicionário criado\n"
   ]
  },
  {
   "cell_type": "code",
   "execution_count": null,
   "metadata": {},
   "outputs": [],
   "source": [
    "materiais ={\n",
    "'escrever': 'caneta', #chave escrever, valor caneta\n",
    "'ligar': 'lampada',\n",
    "'horas': 'ponto' \n",
    "}\n",
    "\n",
    "materiais.values()"
   ]
  },
  {
   "attachments": {},
   "cell_type": "markdown",
   "metadata": {},
   "source": [
    "- Localize o valor correspondente a uma chave do dicionário\n"
   ]
  },
  {
   "cell_type": "code",
   "execution_count": 3,
   "metadata": {},
   "outputs": [
    {
     "name": "stdout",
     "output_type": "stream",
     "text": [
      "lampada\n"
     ]
    }
   ],
   "source": [
    "materiais ={\n",
    "'escrever': 'caneta', #chave escrever, valor caneta\n",
    "'ligar': 'lampada',\n",
    "'horas': 'ponto' \n",
    "}\n",
    "\n",
    "print(materiais['ligar'])"
   ]
  },
  {
   "attachments": {},
   "cell_type": "markdown",
   "metadata": {},
   "source": [
    "- Insira um novo par de chave-valor no dicionário\n"
   ]
  },
  {
   "cell_type": "code",
   "execution_count": 4,
   "metadata": {},
   "outputs": [],
   "source": [
    "materiais ={\n",
    "'escrever': 'caneta', #chave escrever, valor caneta\n",
    "'ligar': 'lampada',\n",
    "'horas': 'ponto' \n",
    "}\n",
    "\n",
    "materiais['desk'] = 'mouse'"
   ]
  },
  {
   "attachments": {},
   "cell_type": "markdown",
   "metadata": {},
   "source": [
    "- Usando o módulo collections, crie um dicionário cujos o valor padrão serão listas\n"
   ]
  },
  {
   "cell_type": "code",
   "execution_count": 5,
   "metadata": {},
   "outputs": [
    {
     "data": {
      "text/plain": [
       "defaultdict(list, {})"
      ]
     },
     "execution_count": 5,
     "metadata": {},
     "output_type": "execute_result"
    }
   ],
   "source": [
    "from collections import defaultdict\n",
    "sabao = defaultdict(list)\n",
    "sabao"
   ]
  },
  {
   "attachments": {},
   "cell_type": "markdown",
   "metadata": {},
   "source": [
    "- Adicione um novo par de chave-valor no dicionário de listas\n"
   ]
  },
  {
   "cell_type": "code",
   "execution_count": 7,
   "metadata": {},
   "outputs": [
    {
     "data": {
      "text/plain": [
       "defaultdict(list,\n",
       "            {'tipos': ['omo',\n",
       "              'brilhante',\n",
       "              'em pó',\n",
       "              'liquido',\n",
       "              'ariel',\n",
       "              'cif']})"
      ]
     },
     "execution_count": 7,
     "metadata": {},
     "output_type": "execute_result"
    }
   ],
   "source": [
    "from collections import defaultdict\n",
    "sabao = defaultdict(list)\n",
    "sabao['tipos'].extend(['omo','brilhante','em pó','liquido','ariel','cif'])#extend para inserir valores dentro de listas, mas pode ser sem tb\n",
    "sabao\n",
    "\n"
   ]
  },
  {
   "attachments": {},
   "cell_type": "markdown",
   "metadata": {},
   "source": [
    "- Localize um valor da lista correspondente a uma chave do dicionário de listas"
   ]
  },
  {
   "cell_type": "code",
   "execution_count": 8,
   "metadata": {},
   "outputs": [
    {
     "name": "stdout",
     "output_type": "stream",
     "text": [
      "em pó\n"
     ]
    }
   ],
   "source": [
    "from collections import defaultdict\n",
    "sabao = defaultdict(list)\n",
    "sabao['tipos'].extend(['omo','brilhante','em pó','liquido','ariel','cif'])\n",
    "print(sabao['tipos'][2])"
   ]
  }
 ],
 "metadata": {
  "kernelspec": {
   "display_name": "Python 3",
   "language": "python",
   "name": "python3"
  },
  "language_info": {
   "codemirror_mode": {
    "name": "ipython",
    "version": 3
   },
   "file_extension": ".py",
   "mimetype": "text/x-python",
   "name": "python",
   "nbconvert_exporter": "python",
   "pygments_lexer": "ipython3",
   "version": "3.12.1"
  },
  "orig_nbformat": 4,
  "vscode": {
   "interpreter": {
    "hash": "916dbcbb3f70747c44a77c7bcd40155683ae19c65e1c03b4aa3499c5328201f1"
   }
  }
 },
 "nbformat": 4,
 "nbformat_minor": 2
}
