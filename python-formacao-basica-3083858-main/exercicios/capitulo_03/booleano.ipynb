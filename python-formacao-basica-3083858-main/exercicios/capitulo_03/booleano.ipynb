{
 "cells": [
  {
   "attachments": {},
   "cell_type": "markdown",
   "metadata": {},
   "source": [
    "- Declare uma variável do tipo lista com 4 elementos"
   ]
  },
  {
   "cell_type": "code",
   "execution_count": null,
   "metadata": {},
   "outputs": [],
   "source": [
    "lista = [1,2,3,4,5,6,7,8,9, None ]"
   ]
  },
  {
   "attachments": {},
   "cell_type": "markdown",
   "metadata": {},
   "source": [
    "- Crie um for loop que passe por todos os itens da lista e imprima o item\n"
   ]
  },
  {
   "cell_type": "code",
   "execution_count": 1,
   "metadata": {},
   "outputs": [
    {
     "name": "stdout",
     "output_type": "stream",
     "text": [
      "1 é um valor verdadeiro\n",
      "2 é um valor verdadeiro\n",
      "3 é um valor verdadeiro\n",
      "4 é um valor verdadeiro\n",
      "5 é um valor verdadeiro\n",
      "6 é um valor verdadeiro\n",
      "7 é um valor verdadeiro\n",
      "8 é um valor verdadeiro\n",
      "9 é um valor verdadeiro\n",
      "None é um valor falso\n"
     ]
    }
   ],
   "source": [
    "lista = [1,2,3,4,5,6,7,8,9, None ]\n",
    "\n",
    "for item in lista:\n",
    "    if item: #a variavel item vai percorrer a lista e ver se os valores são verdadeiros\n",
    "        print(f'{item} é um valor verdadeiro') #o percorredor que deve ser imprimido SEMPRE\n",
    "    else:\n",
    "        print(f'{item} é um valor falso')"
   ]
  }
 ],
 "metadata": {
  "kernelspec": {
   "display_name": "Python 3",
   "language": "python",
   "name": "python3"
  },
  "language_info": {
   "codemirror_mode": {
    "name": "ipython",
    "version": 3
   },
   "file_extension": ".py",
   "mimetype": "text/x-python",
   "name": "python",
   "nbconvert_exporter": "python",
   "pygments_lexer": "ipython3",
   "version": "3.12.1"
  },
  "orig_nbformat": 4,
  "vscode": {
   "interpreter": {
    "hash": "916dbcbb3f70747c44a77c7bcd40155683ae19c65e1c03b4aa3499c5328201f1"
   }
  }
 },
 "nbformat": 4,
 "nbformat_minor": 2
}
