{
 "cells": [
  {
   "attachments": {},
   "cell_type": "markdown",
   "metadata": {},
   "source": [
    "- Crie uma função que receba como argumento 2 números e 1 operação matemática\n"
   ]
  },
  {
   "cell_type": "code",
   "execution_count": 65,
   "metadata": {},
   "outputs": [
    {
     "name": "stdout",
     "output_type": "stream",
     "text": [
      "100\n"
     ]
    }
   ],
   "source": [
    "def opera(res, n1,n2, soma='soma'):\n",
    "    res = n1 + n2\n",
    "    print(res)\n",
    "    \n",
    "    \n",
    "opera('soma', 80,20)\n",
    "\n",
    "#sempre fazer assim"
   ]
  },
  {
   "attachments": {},
   "cell_type": "markdown",
   "metadata": {},
   "source": [
    "- Implemente as funções de soma e multiplicação, nessa função\n"
   ]
  },
  {
   "cell_type": "code",
   "execution_count": 66,
   "metadata": {},
   "outputs": [
    {
     "name": "stdout",
     "output_type": "stream",
     "text": [
      "Soma: 7\n",
      "Multiplicação: 10\n"
     ]
    }
   ],
   "source": [
    "def opera(conta, n1, n2, soma='soma', mult='mult'):\n",
    "    if conta == 'soma':\n",
    "        print('Soma:', n1 + n2)\n",
    "    elif conta == 'mult':\n",
    "        print('Multiplicação:', n1 * n2)\n",
    "\n",
    "\n",
    "opera('soma', 3, 4)\n",
    "opera('mult', 2, 5)\n"
   ]
  },
  {
   "attachments": {},
   "cell_type": "markdown",
   "metadata": {},
   "source": [
    "- Modifique a função para que receba uma quantidade de argumentos não previsível e os imprima na tela\n"
   ]
  },
  {
   "cell_type": "code",
   "execution_count": 67,
   "metadata": {},
   "outputs": [
    {
     "name": "stdout",
     "output_type": "stream",
     "text": [
      "1\n",
      "2\n",
      "3\n",
      "4\n",
      "5\n",
      "salada\n",
      "bolo\n",
      "doce\n"
     ]
    }
   ],
   "source": [
    "def imprevisivel(*args):\n",
    "    for percorredor in args:\n",
    "        print(percorredor)\n",
    "\n",
    "imprevisivel(1, 2, 3, 4, 5, 'salada', 'bolo', 'doce')\n"
   ]
  },
  {
   "attachments": {},
   "cell_type": "markdown",
   "metadata": {},
   "source": [
    "- Use a biblioteca math para otimizar a função\n"
   ]
  },
  {
   "cell_type": "code",
   "execution_count": 114,
   "metadata": {},
   "outputs": [
    {
     "name": "stdout",
     "output_type": "stream",
     "text": [
      "125\n"
     ]
    }
   ],
   "source": [
    "import math\n",
    "\n",
    "def conta(*args, **kwargs):\n",
    "    for op, valor in kwargs.items():\n",
    "        if valor =='soma':\n",
    "            return sum(args)\n",
    "        elif valor =='multiplicação':\n",
    "            return math.prod(args)\n",
    "    \n",
    "    \n",
    "    \n",
    "operacao = conta(5,5,5,valor='soma')\n",
    "print(operacao)"
   ]
  },
  {
   "attachments": {},
   "cell_type": "markdown",
   "metadata": {},
   "source": [
    "- Escreva uma função do tipo lambda"
   ]
  },
  {
   "cell_type": "code",
   "execution_count": 116,
   "metadata": {},
   "outputs": [
    {
     "name": "stdout",
     "output_type": "stream",
     "text": [
      "11\n"
     ]
    }
   ],
   "source": [
    "\n",
    "soma = lambda x,y: print(x + y)\n",
    "\n",
    "soma(3,8)\n"
   ]
  }
 ],
 "metadata": {
  "kernelspec": {
   "display_name": "Python 3",
   "language": "python",
   "name": "python3"
  },
  "language_info": {
   "codemirror_mode": {
    "name": "ipython",
    "version": 3
   },
   "file_extension": ".py",
   "mimetype": "text/x-python",
   "name": "python",
   "nbconvert_exporter": "python",
   "pygments_lexer": "ipython3",
   "version": "3.12.1"
  },
  "orig_nbformat": 4,
  "vscode": {
   "interpreter": {
    "hash": "916dbcbb3f70747c44a77c7bcd40155683ae19c65e1c03b4aa3499c5328201f1"
   }
  }
 },
 "nbformat": 4,
 "nbformat_minor": 2
}
