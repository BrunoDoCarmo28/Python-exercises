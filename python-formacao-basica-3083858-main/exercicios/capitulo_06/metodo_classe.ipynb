{
 "cells": [
  {
   "attachments": {},
   "cell_type": "markdown",
   "metadata": {},
   "source": [
    "- Crie uma classe\n"
   ]
  },
  {
   "cell_type": "code",
   "execution_count": null,
   "metadata": {},
   "outputs": [],
   "source": [
    "class Casa:"
   ]
  },
  {
   "attachments": {},
   "cell_type": "markdown",
   "metadata": {},
   "source": [
    "- Estabeleça variáveis privadas no construtor \n"
   ]
  },
  {
   "cell_type": "code",
   "execution_count": null,
   "metadata": {},
   "outputs": [],
   "source": [
    "class Casa:\n",
    "    def __init__(house):\n",
    "        _cor = ['red']\n",
    "        _janela = ['4']\n",
    "        _tamanho = ['48m2']\n",
    "        _quartos = ['2']\n"
   ]
  },
  {
   "attachments": {},
   "cell_type": "markdown",
   "metadata": {},
   "source": [
    "- Crie um método get, que retorne uma das variáveis privadas\n"
   ]
  },
  {
   "cell_type": "code",
   "execution_count": 8,
   "metadata": {},
   "outputs": [
    {
     "name": "stdout",
     "output_type": "stream",
     "text": [
      "A cor da casa é: Vermelha\n"
     ]
    }
   ],
   "source": [
    "class Casa:\n",
    "    _cor = 'Vermelha'\n",
    "    _janela = '4'\n",
    "    _tamanho = '48m2'\n",
    "    _quartos = '2'\n",
    "\n",
    "    def getCor(color):\n",
    "        return color._cor\n",
    "\n",
    "\n",
    "minha_casa = Casa()\n",
    "\n",
    "\n",
    "print(\"A cor da casa é:\", minha_casa.getCor())\n",
    "\n"
   ]
  },
  {
   "cell_type": "code",
   "execution_count": null,
   "metadata": {},
   "outputs": [],
   "source": []
  },
  {
   "attachments": {},
   "cell_type": "markdown",
   "metadata": {},
   "source": [
    "- Crie um método set, que modifique uma das variáveis privadas\n"
   ]
  },
  {
   "cell_type": "code",
   "execution_count": 11,
   "metadata": {},
   "outputs": [
    {
     "name": "stdout",
     "output_type": "stream",
     "text": [
      "A nova cor da casa é: Azul\n"
     ]
    }
   ],
   "source": [
    "class Casa:\n",
    "    _cor = 'Vermelha'\n",
    "    _janela = '4'\n",
    "    _tamanho = '48m2'\n",
    "    _quartos = '2'\n",
    "\n",
    "    def getCor(color):\n",
    "        return color._cor\n",
    "\n",
    "\n",
    "    def setCor(color, Ncolor):\n",
    "        color._cor = Ncolor #OBRIGATÓRIO ter os argumentos nesta ordem\n",
    "\n",
    "\n",
    "minha_casa = Casa() #Variável criando instância pra poder pegar a classe mais pra baixo\n",
    "\n",
    "\n",
    "minha_casa.setCor('Azul') # A string será passada para o Ncolor, que vai ser passado para o argumento na variavel especificada\n",
    "\n",
    "\n",
    "print(\"A nova cor da casa é:\", minha_casa.getCor()) #Pra imprimir na tela, tem que ser o get\n",
    "\n"
   ]
  },
  {
   "attachments": {},
   "cell_type": "markdown",
   "metadata": {},
   "source": [
    "- Instancie a classe e imprima na tela a variável antes e depois da modificação\n"
   ]
  },
  {
   "cell_type": "code",
   "execution_count": 12,
   "metadata": {},
   "outputs": [
    {
     "name": "stdout",
     "output_type": "stream",
     "text": [
      "A cor atual da casa é: Vermelha\n",
      "A nova cor da casa é: Azul\n"
     ]
    }
   ],
   "source": [
    "class Casa:\n",
    "    _cor = 'Vermelha'\n",
    "    _janela = '4'\n",
    "    _tamanho = '48m2'\n",
    "    _quartos = '2'\n",
    "\n",
    "    def getCor(color):\n",
    "        return color._cor\n",
    "\n",
    "\n",
    "    def setCor(color, Ncolor):\n",
    "        color._cor = Ncolor #OBRIGATÓRIO ter os argumentos nesta ordem\n",
    "\n",
    "\n",
    "minha_casa = Casa() #Variável criando instância pra poder pegar a classe mais pra baixo\n",
    "\n",
    "\n",
    "print(\"A cor atual da casa é:\", minha_casa.getCor())\n",
    "\n",
    "minha_casa.setCor('Azul') # A string será passada para o Ncolor, que vai ser passado para o argumento na variavel especificada\n",
    "\n",
    "\n",
    "print(\"A nova cor da casa é:\", minha_casa.getCor()) #Pra imprimir na tela, tem que ser o get\n"
   ]
  }
 ],
 "metadata": {
  "kernelspec": {
   "display_name": "Python 3",
   "language": "python",
   "name": "python3"
  },
  "language_info": {
   "codemirror_mode": {
    "name": "ipython",
    "version": 3
   },
   "file_extension": ".py",
   "mimetype": "text/x-python",
   "name": "python",
   "nbconvert_exporter": "python",
   "pygments_lexer": "ipython3",
   "version": "3.12.2"
  },
  "orig_nbformat": 4,
  "vscode": {
   "interpreter": {
    "hash": "916dbcbb3f70747c44a77c7bcd40155683ae19c65e1c03b4aa3499c5328201f1"
   }
  }
 },
 "nbformat": 4,
 "nbformat_minor": 2
}
