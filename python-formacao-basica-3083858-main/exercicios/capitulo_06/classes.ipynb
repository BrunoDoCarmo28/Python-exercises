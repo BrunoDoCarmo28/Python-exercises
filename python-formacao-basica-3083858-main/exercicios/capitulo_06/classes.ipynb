{
 "cells": [
  {
   "attachments": {},
   "cell_type": "markdown",
   "metadata": {},
   "source": [
    "- Crie uma classe com 3 atributos\n"
   ]
  },
  {
   "cell_type": "code",
   "execution_count": 1,
   "metadata": {},
   "outputs": [],
   "source": [
    "class Gata:\n",
    "    def __init__(self): #_init_ é uma função de inicialização próprio do python que inidica o estado inicial do objeto, informando seus att\n",
    "        self.patas = 4\n",
    "        self.nome = 'maria'\n",
    "        self.cor = 'preta'"
   ]
  },
  {
   "attachments": {},
   "cell_type": "markdown",
   "metadata": {},
   "source": [
    "- Defina uma variável de classe\n"
   ]
  },
  {
   "cell_type": "code",
   "execution_count": 10,
   "metadata": {},
   "outputs": [
    {
     "name": "stdout",
     "output_type": "stream",
     "text": [
      "O meu gato tem 4 patas\n"
     ]
    }
   ],
   "source": [
    "class Gata:\n",
    "    def __init__(self): \n",
    "        self.patas = 4\n",
    "        self.nome = 'maria'\n",
    "        self.cor = 'preta'\n",
    "\n",
    "\n",
    "MeuGato = Gata()\n",
    "print('O meu gato tem', MeuGato.patas, 'patas')\n"
   ]
  },
  {
   "attachments": {},
   "cell_type": "markdown",
   "metadata": {},
   "source": [
    "- Modifique a variável de instância \"cor\"\n"
   ]
  },
  {
   "cell_type": "code",
   "execution_count": 11,
   "metadata": {},
   "outputs": [
    {
     "name": "stdout",
     "output_type": "stream",
     "text": [
      "O meu gato tem a cor verde\n"
     ]
    }
   ],
   "source": [
    "class Gata:\n",
    "    def __init__(self): \n",
    "        self.patas = 4\n",
    "        self.nome = 'maria'\n",
    "        self.cor = 'preta'\n",
    "\n",
    "\n",
    "MeuGato = Gata()\n",
    "MeuGato.cor = 'verde'\n",
    "print('O meu gato tem a cor', MeuGato.cor)\n"
   ]
  },
  {
   "attachments": {},
   "cell_type": "markdown",
   "metadata": {},
   "source": [
    "- Printe na tela a variável de classe \"cor\"\n"
   ]
  },
  {
   "cell_type": "code",
   "execution_count": 12,
   "metadata": {},
   "outputs": [
    {
     "name": "stdout",
     "output_type": "stream",
     "text": [
      "O meu gato tem 4 patas\n"
     ]
    }
   ],
   "source": [
    "class Gata:\n",
    "    def __init__(self): \n",
    "        self.patas = 4\n",
    "        self.nome = 'maria'\n",
    "        self.cor = 'preta'\n",
    "\n",
    "\n",
    "MeuGato = Gata()\n",
    "MeuGato.cor = 'verde'\n",
    "print('O meu gato tem a cor', MeuGato.cor)"
   ]
  },
  {
   "attachments": {},
   "cell_type": "markdown",
   "metadata": {},
   "source": [
    "- Crie uma variável privada\n"
   ]
  },
  {
   "cell_type": "code",
   "execution_count": null,
   "metadata": {},
   "outputs": [],
   "source": [
    "class Gata:\n",
    "    def __init__(self): \n",
    "        self.patas = 4\n",
    "        self.nome = 'maria'\n",
    "        self.__variavel_privada = 'coleira'\n",
    "        self.cor = 'preta'\n",
    "\n",
    "\n",
    "MeuGato = Gata()\n",
    "\n",
    "# Tentar acessar diretamente a variável privada causará um erro\n",
    "# print(MeuGato.__variavel_privada)  # Isso resultará em AttributeError\n",
    "\n",
    "# No entanto, você pode acessar a variável privada usando um método da classe\n",
    "def obter_variavel_privada(objeto):\n",
    "    return objeto.__variavel_privada\n",
    "\n",
    "print(obter_variavel_privada(MeuGato))\n"
   ]
  }
 ],
 "metadata": {
  "kernelspec": {
   "display_name": "Python 3",
   "language": "python",
   "name": "python3"
  },
  "language_info": {
   "codemirror_mode": {
    "name": "ipython",
    "version": 3
   },
   "file_extension": ".py",
   "mimetype": "text/x-python",
   "name": "python",
   "nbconvert_exporter": "python",
   "pygments_lexer": "ipython3",
   "version": "3.12.1"
  },
  "orig_nbformat": 4,
  "vscode": {
   "interpreter": {
    "hash": "916dbcbb3f70747c44a77c7bcd40155683ae19c65e1c03b4aa3499c5328201f1"
   }
  }
 },
 "nbformat": 4,
 "nbformat_minor": 2
}
