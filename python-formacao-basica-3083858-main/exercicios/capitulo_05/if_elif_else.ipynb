{
 "cells": [
  {
   "attachments": {},
   "cell_type": "markdown",
   "metadata": {},
   "source": [
    "- Crie uma lista com 30 dados do tipo numérico\n"
   ]
  },
  {
   "cell_type": "code",
   "execution_count": 2,
   "metadata": {},
   "outputs": [
    {
     "name": "stdout",
     "output_type": "stream",
     "text": [
      "[0, 1, 2, 3, 4, 5, 6, 7, 8, 9, 10, 11, 12, 13, 14, 15, 16, 17, 18, 19, 20, 21, 22, 23, 24, 25, 26, 27, 28, 29]\n"
     ]
    }
   ],
   "source": [
    "lista = list(range(30))\n",
    "print(lista)"
   ]
  },
  {
   "attachments": {},
   "cell_type": "markdown",
   "metadata": {},
   "source": [
    "- Dentro de um for loop, crie uma estrutura condicional que imprima na tela o número, caso ele seja maior do que 20. Se o número for 20, imprima 'Esse número é igual a 20.’ e se for maior do que 20, imprima ‘Esse número é maior do que 20.’\n"
   ]
  },
  {
   "cell_type": "code",
   "execution_count": 10,
   "metadata": {},
   "outputs": [
    {
     "name": "stdout",
     "output_type": "stream",
     "text": [
      "0\n",
      "1\n",
      "2\n",
      "3\n",
      "4\n",
      "5\n",
      "6\n",
      "7\n",
      "8\n",
      "9\n",
      "10\n",
      "11\n",
      "12\n",
      "13\n",
      "14\n",
      "15\n",
      "16\n",
      "17\n",
      "18\n",
      "19\n",
      "Este número é igual a 20\n",
      "Esse número é maior que 20\n",
      "Esse número é maior que 20\n",
      "Esse número é maior que 20\n",
      "Esse número é maior que 20\n",
      "Esse número é maior que 20\n",
      "Esse número é maior que 20\n",
      "Esse número é maior que 20\n",
      "Esse número é maior que 20\n",
      "Esse número é maior que 20\n"
     ]
    }
   ],
   "source": [
    "lista = list(range(30))\n",
    "for c in lista:\n",
    "    if c < 20:\n",
    "        print(c)\n",
    "    elif c == 20:\n",
    "        print('Este número é igual a 20')\n",
    "    elif c > 20:\n",
    "        print('Esse número é maior que 20')\n",
    "   "
   ]
  },
  {
   "attachments": {},
   "cell_type": "markdown",
   "metadata": {},
   "source": [
    "- Crie as seguintes variáveis contendo listas vazias: ate_12, entre_13_e_20, maior_21"
   ]
  },
  {
   "cell_type": "code",
   "execution_count": null,
   "metadata": {},
   "outputs": [],
   "source": [
    "ate12 = list(range(30))\n",
    "entre13e20 = list(range(30))\n",
    "maior21 = list(range(30))"
   ]
  },
  {
   "attachments": {},
   "cell_type": "markdown",
   "metadata": {},
   "source": [
    "- Dentro de um for loop, crie uma estrutura condicional que distribua em cada lista os números seguindo as condições abaixo: \n",
    "1. se o número for menor do que 12, armazene-o na lista ate_12\n",
    "2. se o número estiver entre 13 e 20, amazene-o na lista entre_13_e_20\n",
    "3. se o número for maior do 21, armazene-o na lista maior_21\n",
    "\n"
   ]
  },
  {
   "cell_type": "code",
   "execution_count": 19,
   "metadata": {},
   "outputs": [
    {
     "name": "stdout",
     "output_type": "stream",
     "text": [
      "Estes são os números até 12: 1\n",
      "Estes são os números até 12: 2\n",
      "Estes são os números entre 13 e 20: 14\n",
      "Estes são os números entre 13 e 20: 15\n",
      "Estes são os números maiores que 21: 22\n",
      "Estes são os números maiores que 21: 23\n"
     ]
    }
   ],
   "source": [
    "ate12 = []\n",
    "entre13e20 = []\n",
    "maior21 = []\n",
    "\n",
    "num = [1,2,14,15,22,23]\n",
    "for c in num:\n",
    "    if c < 12:\n",
    "        ate12 = c\n",
    "        print('Estes são os números até 12:',ate12)\n",
    "    elif c >= 13 and c <=20:\n",
    "        entre13e20 = c\n",
    "        print('Estes são os números entre 13 e 20:',entre13e20)\n",
    "    elif c > 21:\n",
    "        maior21 = c\n",
    "        print('Estes são os números maiores que 21:',maior21)\n",
    "\n",
    "        \n",
    "        \n",
    "        \n",
    "        \n"
   ]
  }
 ],
 "metadata": {
  "kernelspec": {
   "display_name": "Python 3",
   "language": "python",
   "name": "python3"
  },
  "language_info": {
   "codemirror_mode": {
    "name": "ipython",
    "version": 3
   },
   "file_extension": ".py",
   "mimetype": "text/x-python",
   "name": "python",
   "nbconvert_exporter": "python",
   "pygments_lexer": "ipython3",
   "version": "3.12.1"
  },
  "orig_nbformat": 4,
  "vscode": {
   "interpreter": {
    "hash": "916dbcbb3f70747c44a77c7bcd40155683ae19c65e1c03b4aa3499c5328201f1"
   }
  }
 },
 "nbformat": 4,
 "nbformat_minor": 2
}
